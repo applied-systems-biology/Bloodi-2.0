{
 "cells": [
  {
   "cell_type": "markdown",
   "metadata": {},
   "source": [
    "Copyright by Arjun Sarkar Research Group Applied Systems Biology - Head: Prof. Dr. Marc Thilo Figge https://www.leibniz-hki.de/en/applied-systems-biology.html HKI-Center for Systems Biology of Infection Leibniz Institute for Natural Product Research and Infection Biology - Hans Knöll Insitute (HKI) Adolf-Reichwein-Straße 23, 07745 Jena, Germany"
   ]
  },
  {
   "cell_type": "code",
   "execution_count": 1,
   "metadata": {},
   "outputs": [],
   "source": [
    "import os\n",
    "os.environ['TF_CPP_MIN_LOG_LEVEL'] = '3'\n",
    "\n",
    "import numpy as np\n",
    "import seaborn as sns\n",
    "import tensorflow as tf\n",
    "import matplotlib.pyplot as plt\n",
    "import pandas as pd\n",
    "import cv2 as cv\n",
    "import shutil"
   ]
  },
  {
   "cell_type": "code",
   "execution_count": 2,
   "metadata": {},
   "outputs": [
    {
     "data": {
      "text/html": [
       "<div>\n",
       "<style scoped>\n",
       "    .dataframe tbody tr th:only-of-type {\n",
       "        vertical-align: middle;\n",
       "    }\n",
       "\n",
       "    .dataframe tbody tr th {\n",
       "        vertical-align: top;\n",
       "    }\n",
       "\n",
       "    .dataframe thead th {\n",
       "        text-align: right;\n",
       "    }\n",
       "</style>\n",
       "<table border=\"1\" class=\"dataframe\">\n",
       "  <thead>\n",
       "    <tr style=\"text-align: right;\">\n",
       "      <th></th>\n",
       "      <th>Video_Num</th>\n",
       "      <th>Inefction_type</th>\n",
       "      <th>Patient</th>\n",
       "      <th>Patient_id</th>\n",
       "    </tr>\n",
       "  </thead>\n",
       "  <tbody>\n",
       "    <tr>\n",
       "      <th>0</th>\n",
       "      <td>1</td>\n",
       "      <td>ca</td>\n",
       "      <td>1</td>\n",
       "      <td>20180220</td>\n",
       "    </tr>\n",
       "    <tr>\n",
       "      <th>1</th>\n",
       "      <td>2</td>\n",
       "      <td>cg</td>\n",
       "      <td>1</td>\n",
       "      <td>20180220</td>\n",
       "    </tr>\n",
       "    <tr>\n",
       "      <th>2</th>\n",
       "      <td>3</td>\n",
       "      <td>mock</td>\n",
       "      <td>1</td>\n",
       "      <td>20180220</td>\n",
       "    </tr>\n",
       "    <tr>\n",
       "      <th>3</th>\n",
       "      <td>4</td>\n",
       "      <td>ca</td>\n",
       "      <td>2</td>\n",
       "      <td>20180315</td>\n",
       "    </tr>\n",
       "    <tr>\n",
       "      <th>4</th>\n",
       "      <td>5</td>\n",
       "      <td>cg</td>\n",
       "      <td>2</td>\n",
       "      <td>20180315</td>\n",
       "    </tr>\n",
       "  </tbody>\n",
       "</table>\n",
       "</div>"
      ],
      "text/plain": [
       "   Video_Num Inefction_type  Patient  Patient_id\n",
       "0          1             ca        1    20180220\n",
       "1          2             cg        1    20180220\n",
       "2          3           mock        1    20180220\n",
       "3          4             ca        2    20180315\n",
       "4          5             cg        2    20180315"
      ]
     },
     "execution_count": 2,
     "metadata": {},
     "output_type": "execute_result"
    }
   ],
   "source": [
    "df = pd.read_csv('Labels.csv')\n",
    "df.head()"
   ]
  },
  {
   "cell_type": "code",
   "execution_count": 3,
   "metadata": {},
   "outputs": [
    {
     "data": {
      "text/plain": [
       "array([ 2,  5, 14, 19, 22, 25, 28, 31, 34])"
      ]
     },
     "execution_count": 3,
     "metadata": {},
     "output_type": "execute_result"
    }
   ],
   "source": [
    "video_type = df[df['Inefction_type'] == 'cg']\n",
    "video_cg = video_type['Video_Num'].tolist()\n",
    "video_cg = np.array(video_cg)\n",
    "video_cg"
   ]
  },
  {
   "cell_type": "code",
   "execution_count": 4,
   "metadata": {},
   "outputs": [
    {
     "data": {
      "text/plain": [
       "array([ 1,  4, 13, 18, 21, 24, 27, 30, 33])"
      ]
     },
     "execution_count": 4,
     "metadata": {},
     "output_type": "execute_result"
    }
   ],
   "source": [
    "video_type = df[df['Inefction_type'] == 'ca']\n",
    "video_ca = video_type['Video_Num'].tolist()\n",
    "video_ca = np.array(video_ca)\n",
    "video_ca"
   ]
  },
  {
   "cell_type": "code",
   "execution_count": 5,
   "metadata": {},
   "outputs": [
    {
     "data": {
      "text/plain": [
       "array([ 3,  6, 15, 20, 23, 26, 29, 32, 35])"
      ]
     },
     "execution_count": 5,
     "metadata": {},
     "output_type": "execute_result"
    }
   ],
   "source": [
    "video_type = df[df['Inefction_type'] == 'mock']\n",
    "video_mock = video_type['Video_Num'].tolist()\n",
    "video_mock = np.array(video_mock)\n",
    "video_mock"
   ]
  },
  {
   "cell_type": "code",
   "execution_count": 6,
   "metadata": {},
   "outputs": [],
   "source": [
    "path = '/asbdata/Arjun/Bloodi/Split_40_Frames/'"
   ]
  },
  {
   "cell_type": "code",
   "execution_count": 7,
   "metadata": {},
   "outputs": [
    {
     "name": "stderr",
     "output_type": "stream",
     "text": [
      "/tmp/ipykernel_3674090/1875435944.py:5: DeprecationWarning: `np.int` is a deprecated alias for the builtin `int`. To silence this warning, use `int` by itself. Doing this will not modify any behavior and is safe. When replacing `np.int`, you may wish to use e.g. `np.int64` or `np.int32` to specify the precision. If you wish to review your current use, check the release note link for additional information.\n",
      "Deprecated in NumPy 1.20; for more details and guidance: https://numpy.org/devdocs/release/1.20.0-notes.html#deprecations\n",
      "  folder = np.int(folders)\n"
     ]
    },
    {
     "data": {
      "text/html": [
       "<div>\n",
       "<style scoped>\n",
       "    .dataframe tbody tr th:only-of-type {\n",
       "        vertical-align: middle;\n",
       "    }\n",
       "\n",
       "    .dataframe tbody tr th {\n",
       "        vertical-align: top;\n",
       "    }\n",
       "\n",
       "    .dataframe thead th {\n",
       "        text-align: right;\n",
       "    }\n",
       "</style>\n",
       "<table border=\"1\" class=\"dataframe\">\n",
       "  <thead>\n",
       "    <tr style=\"text-align: right;\">\n",
       "      <th></th>\n",
       "      <th>folder_num</th>\n",
       "      <th>video_name</th>\n",
       "      <th>labels</th>\n",
       "      <th>class_label</th>\n",
       "    </tr>\n",
       "  </thead>\n",
       "  <tbody>\n",
       "    <tr>\n",
       "      <th>0</th>\n",
       "      <td>19</td>\n",
       "      <td>19_57_57_184.avi</td>\n",
       "      <td>cg</td>\n",
       "      <td>1</td>\n",
       "    </tr>\n",
       "    <tr>\n",
       "      <th>1</th>\n",
       "      <td>19</td>\n",
       "      <td>19_158_158_289.avi</td>\n",
       "      <td>cg</td>\n",
       "      <td>1</td>\n",
       "    </tr>\n",
       "    <tr>\n",
       "      <th>2</th>\n",
       "      <td>19</td>\n",
       "      <td>19_49_49_157.avi</td>\n",
       "      <td>cg</td>\n",
       "      <td>1</td>\n",
       "    </tr>\n",
       "    <tr>\n",
       "      <th>3</th>\n",
       "      <td>19</td>\n",
       "      <td>19_10_10_22.avi</td>\n",
       "      <td>cg</td>\n",
       "      <td>1</td>\n",
       "    </tr>\n",
       "    <tr>\n",
       "      <th>4</th>\n",
       "      <td>19</td>\n",
       "      <td>19_241_241_351.avi</td>\n",
       "      <td>cg</td>\n",
       "      <td>1</td>\n",
       "    </tr>\n",
       "    <tr>\n",
       "      <th>...</th>\n",
       "      <td>...</td>\n",
       "      <td>...</td>\n",
       "      <td>...</td>\n",
       "      <td>...</td>\n",
       "    </tr>\n",
       "    <tr>\n",
       "      <th>10669</th>\n",
       "      <td>31</td>\n",
       "      <td>31_739_739_442.avi</td>\n",
       "      <td>cg</td>\n",
       "      <td>1</td>\n",
       "    </tr>\n",
       "    <tr>\n",
       "      <th>10670</th>\n",
       "      <td>31</td>\n",
       "      <td>31_678_678_430.avi</td>\n",
       "      <td>cg</td>\n",
       "      <td>1</td>\n",
       "    </tr>\n",
       "    <tr>\n",
       "      <th>10671</th>\n",
       "      <td>31</td>\n",
       "      <td>31_322_322_267.avi</td>\n",
       "      <td>cg</td>\n",
       "      <td>1</td>\n",
       "    </tr>\n",
       "    <tr>\n",
       "      <th>10672</th>\n",
       "      <td>31</td>\n",
       "      <td>31_592_592_388.avi</td>\n",
       "      <td>cg</td>\n",
       "      <td>1</td>\n",
       "    </tr>\n",
       "    <tr>\n",
       "      <th>10673</th>\n",
       "      <td>31</td>\n",
       "      <td>31_617_617_399.avi</td>\n",
       "      <td>cg</td>\n",
       "      <td>1</td>\n",
       "    </tr>\n",
       "  </tbody>\n",
       "</table>\n",
       "<p>10674 rows × 4 columns</p>\n",
       "</div>"
      ],
      "text/plain": [
       "       folder_num          video_name labels  class_label\n",
       "0              19    19_57_57_184.avi     cg            1\n",
       "1              19  19_158_158_289.avi     cg            1\n",
       "2              19    19_49_49_157.avi     cg            1\n",
       "3              19     19_10_10_22.avi     cg            1\n",
       "4              19  19_241_241_351.avi     cg            1\n",
       "...           ...                 ...    ...          ...\n",
       "10669          31  31_739_739_442.avi     cg            1\n",
       "10670          31  31_678_678_430.avi     cg            1\n",
       "10671          31  31_322_322_267.avi     cg            1\n",
       "10672          31  31_592_592_388.avi     cg            1\n",
       "10673          31  31_617_617_399.avi     cg            1\n",
       "\n",
       "[10674 rows x 4 columns]"
      ]
     },
     "execution_count": 7,
     "metadata": {},
     "output_type": "execute_result"
    }
   ],
   "source": [
    "data = []\n",
    "\n",
    "for folders in os.listdir(path):\n",
    "    \n",
    "    folder = np.int(folders)\n",
    "    \n",
    "    if folder in video_cg:\n",
    "        label = 'cg'\n",
    "        classes = 1\n",
    "            \n",
    "    if folder in video_ca:\n",
    "        label = 'ca'\n",
    "        classes = 0\n",
    "            \n",
    "    if folder in video_mock:\n",
    "        label = 'mock'\n",
    "        classes = 2\n",
    "\n",
    "    for videos in os.listdir(os.path.join(path,folders)):\n",
    "        \n",
    "        data.append([np.int32(folders),videos,label,classes])\n",
    "        \n",
    "new_df = pd.DataFrame(data,columns=['folder_num','video_name','labels','class_label'])\n",
    "new_df       "
   ]
  },
  {
   "cell_type": "code",
   "execution_count": 8,
   "metadata": {},
   "outputs": [],
   "source": [
    "new_df.to_csv('Video_list_split_cells.csv',index = False)"
   ]
  },
  {
   "cell_type": "code",
   "execution_count": 9,
   "metadata": {},
   "outputs": [
    {
     "data": {
      "text/html": [
       "<div>\n",
       "<style scoped>\n",
       "    .dataframe tbody tr th:only-of-type {\n",
       "        vertical-align: middle;\n",
       "    }\n",
       "\n",
       "    .dataframe tbody tr th {\n",
       "        vertical-align: top;\n",
       "    }\n",
       "\n",
       "    .dataframe thead th {\n",
       "        text-align: right;\n",
       "    }\n",
       "</style>\n",
       "<table border=\"1\" class=\"dataframe\">\n",
       "  <thead>\n",
       "    <tr style=\"text-align: right;\">\n",
       "      <th></th>\n",
       "      <th>folder_num</th>\n",
       "      <th>video_name</th>\n",
       "      <th>labels</th>\n",
       "      <th>class_label</th>\n",
       "    </tr>\n",
       "  </thead>\n",
       "  <tbody>\n",
       "    <tr>\n",
       "      <th>0</th>\n",
       "      <td>19</td>\n",
       "      <td>19_57_57_184.avi</td>\n",
       "      <td>cg</td>\n",
       "      <td>1</td>\n",
       "    </tr>\n",
       "    <tr>\n",
       "      <th>1</th>\n",
       "      <td>19</td>\n",
       "      <td>19_158_158_289.avi</td>\n",
       "      <td>cg</td>\n",
       "      <td>1</td>\n",
       "    </tr>\n",
       "    <tr>\n",
       "      <th>2</th>\n",
       "      <td>19</td>\n",
       "      <td>19_49_49_157.avi</td>\n",
       "      <td>cg</td>\n",
       "      <td>1</td>\n",
       "    </tr>\n",
       "    <tr>\n",
       "      <th>3</th>\n",
       "      <td>19</td>\n",
       "      <td>19_10_10_22.avi</td>\n",
       "      <td>cg</td>\n",
       "      <td>1</td>\n",
       "    </tr>\n",
       "    <tr>\n",
       "      <th>4</th>\n",
       "      <td>19</td>\n",
       "      <td>19_241_241_351.avi</td>\n",
       "      <td>cg</td>\n",
       "      <td>1</td>\n",
       "    </tr>\n",
       "    <tr>\n",
       "      <th>...</th>\n",
       "      <td>...</td>\n",
       "      <td>...</td>\n",
       "      <td>...</td>\n",
       "      <td>...</td>\n",
       "    </tr>\n",
       "    <tr>\n",
       "      <th>10669</th>\n",
       "      <td>31</td>\n",
       "      <td>31_739_739_442.avi</td>\n",
       "      <td>cg</td>\n",
       "      <td>1</td>\n",
       "    </tr>\n",
       "    <tr>\n",
       "      <th>10670</th>\n",
       "      <td>31</td>\n",
       "      <td>31_678_678_430.avi</td>\n",
       "      <td>cg</td>\n",
       "      <td>1</td>\n",
       "    </tr>\n",
       "    <tr>\n",
       "      <th>10671</th>\n",
       "      <td>31</td>\n",
       "      <td>31_322_322_267.avi</td>\n",
       "      <td>cg</td>\n",
       "      <td>1</td>\n",
       "    </tr>\n",
       "    <tr>\n",
       "      <th>10672</th>\n",
       "      <td>31</td>\n",
       "      <td>31_592_592_388.avi</td>\n",
       "      <td>cg</td>\n",
       "      <td>1</td>\n",
       "    </tr>\n",
       "    <tr>\n",
       "      <th>10673</th>\n",
       "      <td>31</td>\n",
       "      <td>31_617_617_399.avi</td>\n",
       "      <td>cg</td>\n",
       "      <td>1</td>\n",
       "    </tr>\n",
       "  </tbody>\n",
       "</table>\n",
       "<p>10674 rows × 4 columns</p>\n",
       "</div>"
      ],
      "text/plain": [
       "       folder_num          video_name labels  class_label\n",
       "0              19    19_57_57_184.avi     cg            1\n",
       "1              19  19_158_158_289.avi     cg            1\n",
       "2              19    19_49_49_157.avi     cg            1\n",
       "3              19     19_10_10_22.avi     cg            1\n",
       "4              19  19_241_241_351.avi     cg            1\n",
       "...           ...                 ...    ...          ...\n",
       "10669          31  31_739_739_442.avi     cg            1\n",
       "10670          31  31_678_678_430.avi     cg            1\n",
       "10671          31  31_322_322_267.avi     cg            1\n",
       "10672          31  31_592_592_388.avi     cg            1\n",
       "10673          31  31_617_617_399.avi     cg            1\n",
       "\n",
       "[10674 rows x 4 columns]"
      ]
     },
     "execution_count": 9,
     "metadata": {},
     "output_type": "execute_result"
    }
   ],
   "source": [
    "df = pd.read_csv('Video_list_split_cells.csv')\n",
    "df"
   ]
  },
  {
   "cell_type": "code",
   "execution_count": 10,
   "metadata": {},
   "outputs": [],
   "source": [
    "os.mkdir('/asbdata/Arjun/Bloodi/all_split_videos/')\n",
    "\n",
    "for folders in os.listdir(path):\n",
    "    \n",
    "    for videos in os.listdir(os.path.join(path,folders)):\n",
    "        \n",
    "        dest_dir = '/asbdata/Arjun/Bloodi/all_split_videos/'\n",
    "        shutil.copy(path+str(folders)+'/'+videos, dest_dir)"
   ]
  },
  {
   "cell_type": "code",
   "execution_count": 11,
   "metadata": {},
   "outputs": [],
   "source": [
    "os.mkdir('/asbdata/Arjun/Bloodi/Split_numpy')\n",
    "os.mkdir('/asbdata/Arjun/Bloodi/Split_numpy/videos')\n",
    "os.mkdir('/asbdata/Arjun/Bloodi/Split_numpy/labels')"
   ]
  }
 ],
 "metadata": {
  "kernelspec": {
   "display_name": "Python 3 (ipykernel)",
   "language": "python",
   "name": "python3"
  },
  "language_info": {
   "codemirror_mode": {
    "name": "ipython",
    "version": 3
   },
   "file_extension": ".py",
   "mimetype": "text/x-python",
   "name": "python",
   "nbconvert_exporter": "python",
   "pygments_lexer": "ipython3",
   "version": "3.9.13"
  }
 },
 "nbformat": 4,
 "nbformat_minor": 4
}
